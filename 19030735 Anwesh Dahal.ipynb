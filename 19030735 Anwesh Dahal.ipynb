{
 "cells": [
  {
   "cell_type": "markdown",
   "metadata": {},
   "source": [
    "# CU6051NI Artificial Intelligence: 75% Coursework 2"
   ]
  },
  {
   "cell_type": "markdown",
   "metadata": {},
   "source": [
    "<span style=\"color: #888;\">**19030735** Anwesh Dahal</span>"
   ]
  },
  {
   "cell_type": "markdown",
   "metadata": {},
   "source": [
    "**Topic:** Sales Forecasting Using Machine Learning<br />\n",
    "**Problem Domain:** Determining the sales based on historic data<br />\n",
    "**Algorithm Used:** KNNRegressor<br />"
   ]
  },
  {
   "cell_type": "markdown",
   "metadata": {},
   "source": [
    "---"
   ]
  },
  {
   "cell_type": "markdown",
   "metadata": {},
   "source": [
    "## Sales Forecasting using KNN Regressor and Walmart Historical Sales Data"
   ]
  },
  {
   "cell_type": "markdown",
   "metadata": {},
   "source": [
    "This notebook is used to conduct Sales Forecasting, the data used in this notebook is from the **Walmart Recruiting - Store Sales Forecasting** available at [Kaggle](https://www.kaggle.com/c/walmart-recruiting-store-sales-forecasting/overview)"
   ]
  },
  {
   "cell_type": "markdown",
   "metadata": {},
   "source": [
    "The Walmart Sales Forecasting challenge requires the programmer to analyze if the sales of the store are affected by the inclusion of a holiday in the week. The Data set accounts for four main holidays/events celebrated in the US, they are **Christmas**, **Thanksgiving**,**Super Bowl**, and **Labour Day**. Our objective is to analyze the effect of the holiday in the store's performance and conduct forecasting"
   ]
  },
  {
   "cell_type": "markdown",
   "metadata": {},
   "source": [
    "_Sales Forecasting is a process of predicting the performance of a company, in terms of revenue, by analyzing the various parameters_"
   ]
  },
  {
   "cell_type": "markdown",
   "metadata": {},
   "source": [
    "### Importing the required modules"
   ]
  },
  {
   "cell_type": "code",
   "execution_count": 1,
   "metadata": {},
   "outputs": [],
   "source": [
    "# Modules\n",
    "import numpy as np\n",
    "import pandas as pd\n",
    "import matplotlib.pyplot as plt\n",
    "\n",
    "# Scikit Learn Packages\n",
    "from sklearn.model_selection import train_test_split\n",
    "from sklearn.neighbors import KNeighborsRegressor\n",
    "from sklearn.metrics import mean_absolute_error"
   ]
  },
  {
   "cell_type": "markdown",
   "metadata": {},
   "source": [
    "**Importing in the dataset files**"
   ]
  },
  {
   "cell_type": "code",
   "execution_count": 2,
   "metadata": {},
   "outputs": [],
   "source": [
    "# Feature Dataset\n",
    "data = pd.read_csv('features.csv')"
   ]
  },
  {
   "cell_type": "code",
   "execution_count": 3,
   "metadata": {},
   "outputs": [],
   "source": [
    "# Training Dataset\n",
    "data_sales = pd.read_csv('train.csv')"
   ]
  },
  {
   "cell_type": "markdown",
   "metadata": {},
   "source": [
    "**Getting the metadata of the imported DataFrames**"
   ]
  },
  {
   "cell_type": "code",
   "execution_count": 4,
   "metadata": {},
   "outputs": [
    {
     "name": "stdout",
     "output_type": "stream",
     "text": [
      "<class 'pandas.core.frame.DataFrame'>\n",
      "RangeIndex: 8190 entries, 0 to 8189\n",
      "Data columns (total 12 columns):\n",
      " #   Column        Non-Null Count  Dtype  \n",
      "---  ------        --------------  -----  \n",
      " 0   Store         8190 non-null   int64  \n",
      " 1   Date          8190 non-null   object \n",
      " 2   Temperature   8190 non-null   float64\n",
      " 3   Fuel_Price    8190 non-null   float64\n",
      " 4   MarkDown1     4032 non-null   float64\n",
      " 5   MarkDown2     2921 non-null   float64\n",
      " 6   MarkDown3     3613 non-null   float64\n",
      " 7   MarkDown4     3464 non-null   float64\n",
      " 8   MarkDown5     4050 non-null   float64\n",
      " 9   CPI           7605 non-null   float64\n",
      " 10  Unemployment  7605 non-null   float64\n",
      " 11  IsHoliday     8190 non-null   bool   \n",
      "dtypes: bool(1), float64(9), int64(1), object(1)\n",
      "memory usage: 712.0+ KB\n"
     ]
    }
   ],
   "source": [
    "# Metadata for features dataframe\n",
    "data.info()"
   ]
  },
  {
   "cell_type": "code",
   "execution_count": 5,
   "metadata": {},
   "outputs": [
    {
     "name": "stdout",
     "output_type": "stream",
     "text": [
      "<class 'pandas.core.frame.DataFrame'>\n",
      "RangeIndex: 421570 entries, 0 to 421569\n",
      "Data columns (total 5 columns):\n",
      " #   Column        Non-Null Count   Dtype  \n",
      "---  ------        --------------   -----  \n",
      " 0   Store         421570 non-null  int64  \n",
      " 1   Dept          421570 non-null  int64  \n",
      " 2   Date          421570 non-null  object \n",
      " 3   Weekly_Sales  421570 non-null  float64\n",
      " 4   IsHoliday     421570 non-null  bool   \n",
      "dtypes: bool(1), float64(1), int64(2), object(1)\n",
      "memory usage: 13.3+ MB\n"
     ]
    }
   ],
   "source": [
    "# Metadata for training dataframe\n",
    "data_sales.info()"
   ]
  },
  {
   "cell_type": "markdown",
   "metadata": {},
   "source": [
    "In this notebook we are going to predict the sales of only one store therefore we discard the data belonging to the rest of the stores"
   ]
  },
  {
   "cell_type": "code",
   "execution_count": 6,
   "metadata": {},
   "outputs": [],
   "source": [
    "# Discarding the data of stores other than 1\n",
    "data = data.loc[data['Store'] == 1] # from the feature set\n",
    "\n",
    "data_sales = data_sales.loc[data_sales['Store'] == 1] # from the training data set"
   ]
  },
  {
   "cell_type": "code",
   "execution_count": 7,
   "metadata": {},
   "outputs": [
    {
     "data": {
      "text/html": [
       "<div>\n",
       "<style scoped>\n",
       "    .dataframe tbody tr th:only-of-type {\n",
       "        vertical-align: middle;\n",
       "    }\n",
       "\n",
       "    .dataframe tbody tr th {\n",
       "        vertical-align: top;\n",
       "    }\n",
       "\n",
       "    .dataframe thead th {\n",
       "        text-align: right;\n",
       "    }\n",
       "</style>\n",
       "<table border=\"1\" class=\"dataframe\">\n",
       "  <thead>\n",
       "    <tr style=\"text-align: right;\">\n",
       "      <th></th>\n",
       "      <th>Store</th>\n",
       "      <th>Date</th>\n",
       "      <th>Temperature</th>\n",
       "      <th>Fuel_Price</th>\n",
       "      <th>MarkDown1</th>\n",
       "      <th>MarkDown2</th>\n",
       "      <th>MarkDown3</th>\n",
       "      <th>MarkDown4</th>\n",
       "      <th>MarkDown5</th>\n",
       "      <th>CPI</th>\n",
       "      <th>Unemployment</th>\n",
       "      <th>IsHoliday</th>\n",
       "    </tr>\n",
       "  </thead>\n",
       "  <tbody>\n",
       "    <tr>\n",
       "      <th>0</th>\n",
       "      <td>1</td>\n",
       "      <td>2010-02-05</td>\n",
       "      <td>42.31</td>\n",
       "      <td>2.572</td>\n",
       "      <td>NaN</td>\n",
       "      <td>NaN</td>\n",
       "      <td>NaN</td>\n",
       "      <td>NaN</td>\n",
       "      <td>NaN</td>\n",
       "      <td>211.096358</td>\n",
       "      <td>8.106</td>\n",
       "      <td>False</td>\n",
       "    </tr>\n",
       "    <tr>\n",
       "      <th>1</th>\n",
       "      <td>1</td>\n",
       "      <td>2010-02-12</td>\n",
       "      <td>38.51</td>\n",
       "      <td>2.548</td>\n",
       "      <td>NaN</td>\n",
       "      <td>NaN</td>\n",
       "      <td>NaN</td>\n",
       "      <td>NaN</td>\n",
       "      <td>NaN</td>\n",
       "      <td>211.242170</td>\n",
       "      <td>8.106</td>\n",
       "      <td>True</td>\n",
       "    </tr>\n",
       "    <tr>\n",
       "      <th>2</th>\n",
       "      <td>1</td>\n",
       "      <td>2010-02-19</td>\n",
       "      <td>39.93</td>\n",
       "      <td>2.514</td>\n",
       "      <td>NaN</td>\n",
       "      <td>NaN</td>\n",
       "      <td>NaN</td>\n",
       "      <td>NaN</td>\n",
       "      <td>NaN</td>\n",
       "      <td>211.289143</td>\n",
       "      <td>8.106</td>\n",
       "      <td>False</td>\n",
       "    </tr>\n",
       "    <tr>\n",
       "      <th>3</th>\n",
       "      <td>1</td>\n",
       "      <td>2010-02-26</td>\n",
       "      <td>46.63</td>\n",
       "      <td>2.561</td>\n",
       "      <td>NaN</td>\n",
       "      <td>NaN</td>\n",
       "      <td>NaN</td>\n",
       "      <td>NaN</td>\n",
       "      <td>NaN</td>\n",
       "      <td>211.319643</td>\n",
       "      <td>8.106</td>\n",
       "      <td>False</td>\n",
       "    </tr>\n",
       "    <tr>\n",
       "      <th>4</th>\n",
       "      <td>1</td>\n",
       "      <td>2010-03-05</td>\n",
       "      <td>46.50</td>\n",
       "      <td>2.625</td>\n",
       "      <td>NaN</td>\n",
       "      <td>NaN</td>\n",
       "      <td>NaN</td>\n",
       "      <td>NaN</td>\n",
       "      <td>NaN</td>\n",
       "      <td>211.350143</td>\n",
       "      <td>8.106</td>\n",
       "      <td>False</td>\n",
       "    </tr>\n",
       "    <tr>\n",
       "      <th>...</th>\n",
       "      <td>...</td>\n",
       "      <td>...</td>\n",
       "      <td>...</td>\n",
       "      <td>...</td>\n",
       "      <td>...</td>\n",
       "      <td>...</td>\n",
       "      <td>...</td>\n",
       "      <td>...</td>\n",
       "      <td>...</td>\n",
       "      <td>...</td>\n",
       "      <td>...</td>\n",
       "      <td>...</td>\n",
       "    </tr>\n",
       "    <tr>\n",
       "      <th>177</th>\n",
       "      <td>1</td>\n",
       "      <td>2013-06-28</td>\n",
       "      <td>83.94</td>\n",
       "      <td>3.495</td>\n",
       "      <td>4205.98</td>\n",
       "      <td>796.70</td>\n",
       "      <td>6.84</td>\n",
       "      <td>3816.78</td>\n",
       "      <td>4812.74</td>\n",
       "      <td>NaN</td>\n",
       "      <td>NaN</td>\n",
       "      <td>False</td>\n",
       "    </tr>\n",
       "    <tr>\n",
       "      <th>178</th>\n",
       "      <td>1</td>\n",
       "      <td>2013-07-05</td>\n",
       "      <td>79.85</td>\n",
       "      <td>3.422</td>\n",
       "      <td>7649.99</td>\n",
       "      <td>3503.29</td>\n",
       "      <td>1766.77</td>\n",
       "      <td>9454.96</td>\n",
       "      <td>1079.89</td>\n",
       "      <td>NaN</td>\n",
       "      <td>NaN</td>\n",
       "      <td>False</td>\n",
       "    </tr>\n",
       "    <tr>\n",
       "      <th>179</th>\n",
       "      <td>1</td>\n",
       "      <td>2013-07-12</td>\n",
       "      <td>83.12</td>\n",
       "      <td>3.400</td>\n",
       "      <td>6089.94</td>\n",
       "      <td>1362.42</td>\n",
       "      <td>209.62</td>\n",
       "      <td>2367.42</td>\n",
       "      <td>2651.05</td>\n",
       "      <td>NaN</td>\n",
       "      <td>NaN</td>\n",
       "      <td>False</td>\n",
       "    </tr>\n",
       "    <tr>\n",
       "      <th>180</th>\n",
       "      <td>1</td>\n",
       "      <td>2013-07-19</td>\n",
       "      <td>79.26</td>\n",
       "      <td>3.556</td>\n",
       "      <td>3117.04</td>\n",
       "      <td>1060.39</td>\n",
       "      <td>199.05</td>\n",
       "      <td>1012.30</td>\n",
       "      <td>5381.72</td>\n",
       "      <td>NaN</td>\n",
       "      <td>NaN</td>\n",
       "      <td>False</td>\n",
       "    </tr>\n",
       "    <tr>\n",
       "      <th>181</th>\n",
       "      <td>1</td>\n",
       "      <td>2013-07-26</td>\n",
       "      <td>81.54</td>\n",
       "      <td>3.620</td>\n",
       "      <td>332.17</td>\n",
       "      <td>673.19</td>\n",
       "      <td>1.00</td>\n",
       "      <td>38.63</td>\n",
       "      <td>1245.20</td>\n",
       "      <td>NaN</td>\n",
       "      <td>NaN</td>\n",
       "      <td>False</td>\n",
       "    </tr>\n",
       "  </tbody>\n",
       "</table>\n",
       "<p>182 rows × 12 columns</p>\n",
       "</div>"
      ],
      "text/plain": [
       "     Store        Date  Temperature  Fuel_Price  MarkDown1  MarkDown2  \\\n",
       "0        1  2010-02-05        42.31       2.572        NaN        NaN   \n",
       "1        1  2010-02-12        38.51       2.548        NaN        NaN   \n",
       "2        1  2010-02-19        39.93       2.514        NaN        NaN   \n",
       "3        1  2010-02-26        46.63       2.561        NaN        NaN   \n",
       "4        1  2010-03-05        46.50       2.625        NaN        NaN   \n",
       "..     ...         ...          ...         ...        ...        ...   \n",
       "177      1  2013-06-28        83.94       3.495    4205.98     796.70   \n",
       "178      1  2013-07-05        79.85       3.422    7649.99    3503.29   \n",
       "179      1  2013-07-12        83.12       3.400    6089.94    1362.42   \n",
       "180      1  2013-07-19        79.26       3.556    3117.04    1060.39   \n",
       "181      1  2013-07-26        81.54       3.620     332.17     673.19   \n",
       "\n",
       "     MarkDown3  MarkDown4  MarkDown5         CPI  Unemployment  IsHoliday  \n",
       "0          NaN        NaN        NaN  211.096358         8.106      False  \n",
       "1          NaN        NaN        NaN  211.242170         8.106       True  \n",
       "2          NaN        NaN        NaN  211.289143         8.106      False  \n",
       "3          NaN        NaN        NaN  211.319643         8.106      False  \n",
       "4          NaN        NaN        NaN  211.350143         8.106      False  \n",
       "..         ...        ...        ...         ...           ...        ...  \n",
       "177       6.84    3816.78    4812.74         NaN           NaN      False  \n",
       "178    1766.77    9454.96    1079.89         NaN           NaN      False  \n",
       "179     209.62    2367.42    2651.05         NaN           NaN      False  \n",
       "180     199.05    1012.30    5381.72         NaN           NaN      False  \n",
       "181       1.00      38.63    1245.20         NaN           NaN      False  \n",
       "\n",
       "[182 rows x 12 columns]"
      ]
     },
     "execution_count": 7,
     "metadata": {},
     "output_type": "execute_result"
    }
   ],
   "source": [
    "data"
   ]
  },
  {
   "cell_type": "markdown",
   "metadata": {},
   "source": [
    "As we can see in the column **Markdown[1-5]**, **CPI**, and **Unemployment** there exists `NaN`, which represents _Not a Number_ as a result using the dataset as it is can result in error and inaccurate results. The reason this was not indicated in the output for the command `data.info()` is because the cells with missing numbers is filled with a place holder `NaN` which is an actual data, albiet unusable."
   ]
  },
  {
   "cell_type": "markdown",
   "metadata": {},
   "source": [
    "### Cleaning the dataset for `Null/ NaN` Values"
   ]
  },
  {
   "cell_type": "code",
   "execution_count": 8,
   "metadata": {},
   "outputs": [
    {
     "data": {
      "text/plain": [
       "Store             0\n",
       "Date              0\n",
       "Temperature       0\n",
       "Fuel_Price        0\n",
       "MarkDown1        92\n",
       "MarkDown2       109\n",
       "MarkDown3        93\n",
       "MarkDown4        92\n",
       "MarkDown5        92\n",
       "CPI              13\n",
       "Unemployment     13\n",
       "IsHoliday         0\n",
       "dtype: int64"
      ]
     },
     "execution_count": 8,
     "metadata": {},
     "output_type": "execute_result"
    }
   ],
   "source": [
    "# Checking the number of NaN Values in data set\n",
    "data.isnull().sum()"
   ]
  },
  {
   "cell_type": "markdown",
   "metadata": {},
   "source": [
    "_We can see that the columns CPI, Unemployment and Markdown[1-5] has null values. These need to be handeled in order to produce accurate results and avoid errors_"
   ]
  },
  {
   "cell_type": "markdown",
   "metadata": {},
   "source": [
    "Since the columns **CPI**, and **Unemployment** have comparatively less number of `NaN` values, as a result they can be replaced with the mean of the available values"
   ]
  },
  {
   "cell_type": "markdown",
   "metadata": {},
   "source": [
    "Mean **CPI** is calculated with the following formula\n",
    "$$\n",
    "  \\mu_{CPI} = \\frac{Sum\\ of\\ not\\ null\\ CPI\\ values}{Number\\ of\\ not\\ null\\ CPI\\ rows}\n",
    "$$"
   ]
  },
  {
   "cell_type": "code",
   "execution_count": 9,
   "metadata": {},
   "outputs": [],
   "source": [
    "# Calculating mean CPI\n",
    "mean_CPI = np.sum(data['CPI'])/data['CPI'].notnull().sum()\n",
    "data['CPI'] = data['CPI'].fillna(mean_CPI)"
   ]
  },
  {
   "cell_type": "markdown",
   "metadata": {},
   "source": [
    "Similarly mean **Unemployment** is calculated is with the following formula\n",
    "$$\n",
    "  \\mu_{Unemployment} = \\frac{Sum\\ of\\ not\\ null\\ Unemployment\\ values}{Number\\ of\\ not\\ null\\ rows}\n",
    "$$"
   ]
  },
  {
   "cell_type": "code",
   "execution_count": 10,
   "metadata": {},
   "outputs": [],
   "source": [
    "# Calculating mean Unemployment\n",
    "mean_Unemployment = np.sum(data['Unemployment'])/data['Unemployment'].notnull().sum()\n",
    "data['Unemployment'] = data['Unemployment'].fillna(mean_Unemployment)"
   ]
  },
  {
   "cell_type": "markdown",
   "metadata": {},
   "source": [
    "The columns Markdown[1-5] have a lots of null value thus they will be replaced with 0 inorder to maintain the quality of the data stored in the table, the null values will be replaced by zero (0)"
   ]
  },
  {
   "cell_type": "code",
   "execution_count": 11,
   "metadata": {},
   "outputs": [],
   "source": [
    "data[['MarkDown1', 'MarkDown2', 'MarkDown3', 'MarkDown4', 'MarkDown5']] = data[['MarkDown1', 'MarkDown2', 'MarkDown3', 'MarkDown4', 'MarkDown5']].fillna(0)"
   ]
  },
  {
   "cell_type": "markdown",
   "metadata": {},
   "source": [
    "***Cleaned Data***"
   ]
  },
  {
   "cell_type": "code",
   "execution_count": 12,
   "metadata": {},
   "outputs": [
    {
     "data": {
      "text/html": [
       "<div>\n",
       "<style scoped>\n",
       "    .dataframe tbody tr th:only-of-type {\n",
       "        vertical-align: middle;\n",
       "    }\n",
       "\n",
       "    .dataframe tbody tr th {\n",
       "        vertical-align: top;\n",
       "    }\n",
       "\n",
       "    .dataframe thead th {\n",
       "        text-align: right;\n",
       "    }\n",
       "</style>\n",
       "<table border=\"1\" class=\"dataframe\">\n",
       "  <thead>\n",
       "    <tr style=\"text-align: right;\">\n",
       "      <th></th>\n",
       "      <th>Store</th>\n",
       "      <th>Date</th>\n",
       "      <th>Temperature</th>\n",
       "      <th>Fuel_Price</th>\n",
       "      <th>MarkDown1</th>\n",
       "      <th>MarkDown2</th>\n",
       "      <th>MarkDown3</th>\n",
       "      <th>MarkDown4</th>\n",
       "      <th>MarkDown5</th>\n",
       "      <th>CPI</th>\n",
       "      <th>Unemployment</th>\n",
       "      <th>IsHoliday</th>\n",
       "    </tr>\n",
       "  </thead>\n",
       "  <tbody>\n",
       "    <tr>\n",
       "      <th>0</th>\n",
       "      <td>1</td>\n",
       "      <td>2010-02-05</td>\n",
       "      <td>42.31</td>\n",
       "      <td>2.572</td>\n",
       "      <td>0.00</td>\n",
       "      <td>0.00</td>\n",
       "      <td>0.00</td>\n",
       "      <td>0.00</td>\n",
       "      <td>0.00</td>\n",
       "      <td>211.096358</td>\n",
       "      <td>8.106000</td>\n",
       "      <td>False</td>\n",
       "    </tr>\n",
       "    <tr>\n",
       "      <th>1</th>\n",
       "      <td>1</td>\n",
       "      <td>2010-02-12</td>\n",
       "      <td>38.51</td>\n",
       "      <td>2.548</td>\n",
       "      <td>0.00</td>\n",
       "      <td>0.00</td>\n",
       "      <td>0.00</td>\n",
       "      <td>0.00</td>\n",
       "      <td>0.00</td>\n",
       "      <td>211.242170</td>\n",
       "      <td>8.106000</td>\n",
       "      <td>True</td>\n",
       "    </tr>\n",
       "    <tr>\n",
       "      <th>2</th>\n",
       "      <td>1</td>\n",
       "      <td>2010-02-19</td>\n",
       "      <td>39.93</td>\n",
       "      <td>2.514</td>\n",
       "      <td>0.00</td>\n",
       "      <td>0.00</td>\n",
       "      <td>0.00</td>\n",
       "      <td>0.00</td>\n",
       "      <td>0.00</td>\n",
       "      <td>211.289143</td>\n",
       "      <td>8.106000</td>\n",
       "      <td>False</td>\n",
       "    </tr>\n",
       "    <tr>\n",
       "      <th>3</th>\n",
       "      <td>1</td>\n",
       "      <td>2010-02-26</td>\n",
       "      <td>46.63</td>\n",
       "      <td>2.561</td>\n",
       "      <td>0.00</td>\n",
       "      <td>0.00</td>\n",
       "      <td>0.00</td>\n",
       "      <td>0.00</td>\n",
       "      <td>0.00</td>\n",
       "      <td>211.319643</td>\n",
       "      <td>8.106000</td>\n",
       "      <td>False</td>\n",
       "    </tr>\n",
       "    <tr>\n",
       "      <th>4</th>\n",
       "      <td>1</td>\n",
       "      <td>2010-03-05</td>\n",
       "      <td>46.50</td>\n",
       "      <td>2.625</td>\n",
       "      <td>0.00</td>\n",
       "      <td>0.00</td>\n",
       "      <td>0.00</td>\n",
       "      <td>0.00</td>\n",
       "      <td>0.00</td>\n",
       "      <td>211.350143</td>\n",
       "      <td>8.106000</td>\n",
       "      <td>False</td>\n",
       "    </tr>\n",
       "    <tr>\n",
       "      <th>...</th>\n",
       "      <td>...</td>\n",
       "      <td>...</td>\n",
       "      <td>...</td>\n",
       "      <td>...</td>\n",
       "      <td>...</td>\n",
       "      <td>...</td>\n",
       "      <td>...</td>\n",
       "      <td>...</td>\n",
       "      <td>...</td>\n",
       "      <td>...</td>\n",
       "      <td>...</td>\n",
       "      <td>...</td>\n",
       "    </tr>\n",
       "    <tr>\n",
       "      <th>177</th>\n",
       "      <td>1</td>\n",
       "      <td>2013-06-28</td>\n",
       "      <td>83.94</td>\n",
       "      <td>3.495</td>\n",
       "      <td>4205.98</td>\n",
       "      <td>796.70</td>\n",
       "      <td>6.84</td>\n",
       "      <td>3816.78</td>\n",
       "      <td>4812.74</td>\n",
       "      <td>217.271679</td>\n",
       "      <td>7.440994</td>\n",
       "      <td>False</td>\n",
       "    </tr>\n",
       "    <tr>\n",
       "      <th>178</th>\n",
       "      <td>1</td>\n",
       "      <td>2013-07-05</td>\n",
       "      <td>79.85</td>\n",
       "      <td>3.422</td>\n",
       "      <td>7649.99</td>\n",
       "      <td>3503.29</td>\n",
       "      <td>1766.77</td>\n",
       "      <td>9454.96</td>\n",
       "      <td>1079.89</td>\n",
       "      <td>217.271679</td>\n",
       "      <td>7.440994</td>\n",
       "      <td>False</td>\n",
       "    </tr>\n",
       "    <tr>\n",
       "      <th>179</th>\n",
       "      <td>1</td>\n",
       "      <td>2013-07-12</td>\n",
       "      <td>83.12</td>\n",
       "      <td>3.400</td>\n",
       "      <td>6089.94</td>\n",
       "      <td>1362.42</td>\n",
       "      <td>209.62</td>\n",
       "      <td>2367.42</td>\n",
       "      <td>2651.05</td>\n",
       "      <td>217.271679</td>\n",
       "      <td>7.440994</td>\n",
       "      <td>False</td>\n",
       "    </tr>\n",
       "    <tr>\n",
       "      <th>180</th>\n",
       "      <td>1</td>\n",
       "      <td>2013-07-19</td>\n",
       "      <td>79.26</td>\n",
       "      <td>3.556</td>\n",
       "      <td>3117.04</td>\n",
       "      <td>1060.39</td>\n",
       "      <td>199.05</td>\n",
       "      <td>1012.30</td>\n",
       "      <td>5381.72</td>\n",
       "      <td>217.271679</td>\n",
       "      <td>7.440994</td>\n",
       "      <td>False</td>\n",
       "    </tr>\n",
       "    <tr>\n",
       "      <th>181</th>\n",
       "      <td>1</td>\n",
       "      <td>2013-07-26</td>\n",
       "      <td>81.54</td>\n",
       "      <td>3.620</td>\n",
       "      <td>332.17</td>\n",
       "      <td>673.19</td>\n",
       "      <td>1.00</td>\n",
       "      <td>38.63</td>\n",
       "      <td>1245.20</td>\n",
       "      <td>217.271679</td>\n",
       "      <td>7.440994</td>\n",
       "      <td>False</td>\n",
       "    </tr>\n",
       "  </tbody>\n",
       "</table>\n",
       "<p>182 rows × 12 columns</p>\n",
       "</div>"
      ],
      "text/plain": [
       "     Store        Date  Temperature  Fuel_Price  MarkDown1  MarkDown2  \\\n",
       "0        1  2010-02-05        42.31       2.572       0.00       0.00   \n",
       "1        1  2010-02-12        38.51       2.548       0.00       0.00   \n",
       "2        1  2010-02-19        39.93       2.514       0.00       0.00   \n",
       "3        1  2010-02-26        46.63       2.561       0.00       0.00   \n",
       "4        1  2010-03-05        46.50       2.625       0.00       0.00   \n",
       "..     ...         ...          ...         ...        ...        ...   \n",
       "177      1  2013-06-28        83.94       3.495    4205.98     796.70   \n",
       "178      1  2013-07-05        79.85       3.422    7649.99    3503.29   \n",
       "179      1  2013-07-12        83.12       3.400    6089.94    1362.42   \n",
       "180      1  2013-07-19        79.26       3.556    3117.04    1060.39   \n",
       "181      1  2013-07-26        81.54       3.620     332.17     673.19   \n",
       "\n",
       "     MarkDown3  MarkDown4  MarkDown5         CPI  Unemployment  IsHoliday  \n",
       "0         0.00       0.00       0.00  211.096358      8.106000      False  \n",
       "1         0.00       0.00       0.00  211.242170      8.106000       True  \n",
       "2         0.00       0.00       0.00  211.289143      8.106000      False  \n",
       "3         0.00       0.00       0.00  211.319643      8.106000      False  \n",
       "4         0.00       0.00       0.00  211.350143      8.106000      False  \n",
       "..         ...        ...        ...         ...           ...        ...  \n",
       "177       6.84    3816.78    4812.74  217.271679      7.440994      False  \n",
       "178    1766.77    9454.96    1079.89  217.271679      7.440994      False  \n",
       "179     209.62    2367.42    2651.05  217.271679      7.440994      False  \n",
       "180     199.05    1012.30    5381.72  217.271679      7.440994      False  \n",
       "181       1.00      38.63    1245.20  217.271679      7.440994      False  \n",
       "\n",
       "[182 rows x 12 columns]"
      ]
     },
     "execution_count": 12,
     "metadata": {},
     "output_type": "execute_result"
    }
   ],
   "source": [
    "data"
   ]
  },
  {
   "cell_type": "markdown",
   "metadata": {},
   "source": [
    "### Splitting the dates into features\n",
    "Split the date into Year/ Month/ Day/ and Days left to next Christmas and add a seperate column for them\n",
    "\n",
    "$$\n",
    "    Days\\ left\\ to\\ Christmas = (End\\ of\\ Year - Date)\n",
    "$$\n",
    "\n",
    "Since the data is provided based on week, we don't need to calculate the days left with respect to the actual christmas date\n",
    "\n",
    "`Date → Month/ Day`"
   ]
  },
  {
   "cell_type": "code",
   "execution_count": 13,
   "metadata": {},
   "outputs": [],
   "source": [
    "# Add temp column for Year\n",
    "data[\"Year\"] = pd.to_datetime(data[\"Date\"], format=\"%Y-%m-%d\").dt.year\n",
    "\n",
    "# Add column for Month\n",
    "data[\"Month\"] = pd.to_datetime(data[\"Date\"], format=\"%Y-%m-%d\").dt.month\n",
    "\n",
    "# Add column for Day\n",
    "data[\"Day\"] = pd.to_datetime(data[\"Date\"], format=\"%Y-%m-%d\").dt.day\n",
    "\n",
    "# Add column for days to next Christmas\n",
    "data[\"Days to Next Christmas\"] = (pd.to_datetime(data[\"Year\"].astype(str) + \"-12-31\", format=\"%Y-%m-%d\") - pd.to_datetime(data[\"Date\"], format=\"%Y-%m-%d\")).dt.days.astype(int)"
   ]
  },
  {
   "cell_type": "markdown",
   "metadata": {},
   "source": [
    "The year column is discarded, since the sales is mostly affected by the month and date rather than year."
   ]
  },
  {
   "cell_type": "code",
   "execution_count": 14,
   "metadata": {},
   "outputs": [],
   "source": [
    "data = data.drop(columns=\"Year\")"
   ]
  },
  {
   "cell_type": "markdown",
   "metadata": {},
   "source": [
    "**Merging the sales data in the train data set**"
   ]
  },
  {
   "cell_type": "code",
   "execution_count": 15,
   "metadata": {},
   "outputs": [],
   "source": [
    "data_train_mergable = data_sales[['Store', 'Dept', 'Date', 'IsHoliday']]\n",
    "data_train = pd.merge(data, data_train_mergable, on=['Store', 'Date', 'IsHoliday'], how=\"inner\")"
   ]
  },
  {
   "cell_type": "markdown",
   "metadata": {},
   "source": [
    "Since the model cannot use **String** data stored on in the column **Date**, therefore it needs to be dropped"
   ]
  },
  {
   "cell_type": "code",
   "execution_count": 16,
   "metadata": {},
   "outputs": [],
   "source": [
    "data_train = data_train.drop(columns=\"Date\")"
   ]
  },
  {
   "cell_type": "code",
   "execution_count": 17,
   "metadata": {},
   "outputs": [
    {
     "data": {
      "text/html": [
       "<div>\n",
       "<style scoped>\n",
       "    .dataframe tbody tr th:only-of-type {\n",
       "        vertical-align: middle;\n",
       "    }\n",
       "\n",
       "    .dataframe tbody tr th {\n",
       "        vertical-align: top;\n",
       "    }\n",
       "\n",
       "    .dataframe thead th {\n",
       "        text-align: right;\n",
       "    }\n",
       "</style>\n",
       "<table border=\"1\" class=\"dataframe\">\n",
       "  <thead>\n",
       "    <tr style=\"text-align: right;\">\n",
       "      <th></th>\n",
       "      <th>Store</th>\n",
       "      <th>Temperature</th>\n",
       "      <th>Fuel_Price</th>\n",
       "      <th>MarkDown1</th>\n",
       "      <th>MarkDown2</th>\n",
       "      <th>MarkDown3</th>\n",
       "      <th>MarkDown4</th>\n",
       "      <th>MarkDown5</th>\n",
       "      <th>CPI</th>\n",
       "      <th>Unemployment</th>\n",
       "      <th>IsHoliday</th>\n",
       "      <th>Month</th>\n",
       "      <th>Day</th>\n",
       "      <th>Days to Next Christmas</th>\n",
       "      <th>Dept</th>\n",
       "    </tr>\n",
       "  </thead>\n",
       "  <tbody>\n",
       "    <tr>\n",
       "      <th>0</th>\n",
       "      <td>1</td>\n",
       "      <td>42.31</td>\n",
       "      <td>2.572</td>\n",
       "      <td>0.00</td>\n",
       "      <td>0.00</td>\n",
       "      <td>0.0</td>\n",
       "      <td>0.00</td>\n",
       "      <td>0.00</td>\n",
       "      <td>211.096358</td>\n",
       "      <td>8.106</td>\n",
       "      <td>False</td>\n",
       "      <td>2</td>\n",
       "      <td>5</td>\n",
       "      <td>329</td>\n",
       "      <td>1</td>\n",
       "    </tr>\n",
       "    <tr>\n",
       "      <th>1</th>\n",
       "      <td>1</td>\n",
       "      <td>42.31</td>\n",
       "      <td>2.572</td>\n",
       "      <td>0.00</td>\n",
       "      <td>0.00</td>\n",
       "      <td>0.0</td>\n",
       "      <td>0.00</td>\n",
       "      <td>0.00</td>\n",
       "      <td>211.096358</td>\n",
       "      <td>8.106</td>\n",
       "      <td>False</td>\n",
       "      <td>2</td>\n",
       "      <td>5</td>\n",
       "      <td>329</td>\n",
       "      <td>2</td>\n",
       "    </tr>\n",
       "    <tr>\n",
       "      <th>2</th>\n",
       "      <td>1</td>\n",
       "      <td>42.31</td>\n",
       "      <td>2.572</td>\n",
       "      <td>0.00</td>\n",
       "      <td>0.00</td>\n",
       "      <td>0.0</td>\n",
       "      <td>0.00</td>\n",
       "      <td>0.00</td>\n",
       "      <td>211.096358</td>\n",
       "      <td>8.106</td>\n",
       "      <td>False</td>\n",
       "      <td>2</td>\n",
       "      <td>5</td>\n",
       "      <td>329</td>\n",
       "      <td>3</td>\n",
       "    </tr>\n",
       "    <tr>\n",
       "      <th>3</th>\n",
       "      <td>1</td>\n",
       "      <td>42.31</td>\n",
       "      <td>2.572</td>\n",
       "      <td>0.00</td>\n",
       "      <td>0.00</td>\n",
       "      <td>0.0</td>\n",
       "      <td>0.00</td>\n",
       "      <td>0.00</td>\n",
       "      <td>211.096358</td>\n",
       "      <td>8.106</td>\n",
       "      <td>False</td>\n",
       "      <td>2</td>\n",
       "      <td>5</td>\n",
       "      <td>329</td>\n",
       "      <td>4</td>\n",
       "    </tr>\n",
       "    <tr>\n",
       "      <th>4</th>\n",
       "      <td>1</td>\n",
       "      <td>42.31</td>\n",
       "      <td>2.572</td>\n",
       "      <td>0.00</td>\n",
       "      <td>0.00</td>\n",
       "      <td>0.0</td>\n",
       "      <td>0.00</td>\n",
       "      <td>0.00</td>\n",
       "      <td>211.096358</td>\n",
       "      <td>8.106</td>\n",
       "      <td>False</td>\n",
       "      <td>2</td>\n",
       "      <td>5</td>\n",
       "      <td>329</td>\n",
       "      <td>5</td>\n",
       "    </tr>\n",
       "    <tr>\n",
       "      <th>...</th>\n",
       "      <td>...</td>\n",
       "      <td>...</td>\n",
       "      <td>...</td>\n",
       "      <td>...</td>\n",
       "      <td>...</td>\n",
       "      <td>...</td>\n",
       "      <td>...</td>\n",
       "      <td>...</td>\n",
       "      <td>...</td>\n",
       "      <td>...</td>\n",
       "      <td>...</td>\n",
       "      <td>...</td>\n",
       "      <td>...</td>\n",
       "      <td>...</td>\n",
       "      <td>...</td>\n",
       "    </tr>\n",
       "    <tr>\n",
       "      <th>10239</th>\n",
       "      <td>1</td>\n",
       "      <td>69.16</td>\n",
       "      <td>3.506</td>\n",
       "      <td>2585.85</td>\n",
       "      <td>31.75</td>\n",
       "      <td>6.0</td>\n",
       "      <td>1057.16</td>\n",
       "      <td>1305.01</td>\n",
       "      <td>223.444251</td>\n",
       "      <td>6.573</td>\n",
       "      <td>False</td>\n",
       "      <td>10</td>\n",
       "      <td>26</td>\n",
       "      <td>66</td>\n",
       "      <td>94</td>\n",
       "    </tr>\n",
       "    <tr>\n",
       "      <th>10240</th>\n",
       "      <td>1</td>\n",
       "      <td>69.16</td>\n",
       "      <td>3.506</td>\n",
       "      <td>2585.85</td>\n",
       "      <td>31.75</td>\n",
       "      <td>6.0</td>\n",
       "      <td>1057.16</td>\n",
       "      <td>1305.01</td>\n",
       "      <td>223.444251</td>\n",
       "      <td>6.573</td>\n",
       "      <td>False</td>\n",
       "      <td>10</td>\n",
       "      <td>26</td>\n",
       "      <td>66</td>\n",
       "      <td>95</td>\n",
       "    </tr>\n",
       "    <tr>\n",
       "      <th>10241</th>\n",
       "      <td>1</td>\n",
       "      <td>69.16</td>\n",
       "      <td>3.506</td>\n",
       "      <td>2585.85</td>\n",
       "      <td>31.75</td>\n",
       "      <td>6.0</td>\n",
       "      <td>1057.16</td>\n",
       "      <td>1305.01</td>\n",
       "      <td>223.444251</td>\n",
       "      <td>6.573</td>\n",
       "      <td>False</td>\n",
       "      <td>10</td>\n",
       "      <td>26</td>\n",
       "      <td>66</td>\n",
       "      <td>96</td>\n",
       "    </tr>\n",
       "    <tr>\n",
       "      <th>10242</th>\n",
       "      <td>1</td>\n",
       "      <td>69.16</td>\n",
       "      <td>3.506</td>\n",
       "      <td>2585.85</td>\n",
       "      <td>31.75</td>\n",
       "      <td>6.0</td>\n",
       "      <td>1057.16</td>\n",
       "      <td>1305.01</td>\n",
       "      <td>223.444251</td>\n",
       "      <td>6.573</td>\n",
       "      <td>False</td>\n",
       "      <td>10</td>\n",
       "      <td>26</td>\n",
       "      <td>66</td>\n",
       "      <td>97</td>\n",
       "    </tr>\n",
       "    <tr>\n",
       "      <th>10243</th>\n",
       "      <td>1</td>\n",
       "      <td>69.16</td>\n",
       "      <td>3.506</td>\n",
       "      <td>2585.85</td>\n",
       "      <td>31.75</td>\n",
       "      <td>6.0</td>\n",
       "      <td>1057.16</td>\n",
       "      <td>1305.01</td>\n",
       "      <td>223.444251</td>\n",
       "      <td>6.573</td>\n",
       "      <td>False</td>\n",
       "      <td>10</td>\n",
       "      <td>26</td>\n",
       "      <td>66</td>\n",
       "      <td>98</td>\n",
       "    </tr>\n",
       "  </tbody>\n",
       "</table>\n",
       "<p>10244 rows × 15 columns</p>\n",
       "</div>"
      ],
      "text/plain": [
       "       Store  Temperature  Fuel_Price  MarkDown1  MarkDown2  MarkDown3  \\\n",
       "0          1        42.31       2.572       0.00       0.00        0.0   \n",
       "1          1        42.31       2.572       0.00       0.00        0.0   \n",
       "2          1        42.31       2.572       0.00       0.00        0.0   \n",
       "3          1        42.31       2.572       0.00       0.00        0.0   \n",
       "4          1        42.31       2.572       0.00       0.00        0.0   \n",
       "...      ...          ...         ...        ...        ...        ...   \n",
       "10239      1        69.16       3.506    2585.85      31.75        6.0   \n",
       "10240      1        69.16       3.506    2585.85      31.75        6.0   \n",
       "10241      1        69.16       3.506    2585.85      31.75        6.0   \n",
       "10242      1        69.16       3.506    2585.85      31.75        6.0   \n",
       "10243      1        69.16       3.506    2585.85      31.75        6.0   \n",
       "\n",
       "       MarkDown4  MarkDown5         CPI  Unemployment  IsHoliday  Month  Day  \\\n",
       "0           0.00       0.00  211.096358         8.106      False      2    5   \n",
       "1           0.00       0.00  211.096358         8.106      False      2    5   \n",
       "2           0.00       0.00  211.096358         8.106      False      2    5   \n",
       "3           0.00       0.00  211.096358         8.106      False      2    5   \n",
       "4           0.00       0.00  211.096358         8.106      False      2    5   \n",
       "...          ...        ...         ...           ...        ...    ...  ...   \n",
       "10239    1057.16    1305.01  223.444251         6.573      False     10   26   \n",
       "10240    1057.16    1305.01  223.444251         6.573      False     10   26   \n",
       "10241    1057.16    1305.01  223.444251         6.573      False     10   26   \n",
       "10242    1057.16    1305.01  223.444251         6.573      False     10   26   \n",
       "10243    1057.16    1305.01  223.444251         6.573      False     10   26   \n",
       "\n",
       "       Days to Next Christmas  Dept  \n",
       "0                         329     1  \n",
       "1                         329     2  \n",
       "2                         329     3  \n",
       "3                         329     4  \n",
       "4                         329     5  \n",
       "...                       ...   ...  \n",
       "10239                      66    94  \n",
       "10240                      66    95  \n",
       "10241                      66    96  \n",
       "10242                      66    97  \n",
       "10243                      66    98  \n",
       "\n",
       "[10244 rows x 15 columns]"
      ]
     },
     "execution_count": 17,
     "metadata": {},
     "output_type": "execute_result"
    }
   ],
   "source": [
    "data_train"
   ]
  },
  {
   "cell_type": "code",
   "execution_count": 18,
   "metadata": {},
   "outputs": [],
   "source": [
    "train_label = data_sales[\"Weekly_Sales\"]"
   ]
  },
  {
   "cell_type": "code",
   "execution_count": 19,
   "metadata": {},
   "outputs": [
    {
     "data": {
      "text/plain": [
       "0        24924.50\n",
       "1        46039.49\n",
       "2        41595.55\n",
       "3        19403.54\n",
       "4        21827.90\n",
       "           ...   \n",
       "10239       20.06\n",
       "10240        0.05\n",
       "10241        0.03\n",
       "10242      635.00\n",
       "10243       80.00\n",
       "Name: Weekly_Sales, Length: 10244, dtype: float64"
      ]
     },
     "execution_count": 19,
     "metadata": {},
     "output_type": "execute_result"
    }
   ],
   "source": [
    "train_label"
   ]
  },
  {
   "cell_type": "markdown",
   "metadata": {},
   "source": [
    "**Generating the Test and Train Data set from the available data**"
   ]
  },
  {
   "cell_type": "code",
   "execution_count": 20,
   "metadata": {},
   "outputs": [],
   "source": [
    "# Test train split\n",
    "X_train,X_test,y_train,y_test=train_test_split( data_train, train_label, test_size=0.20, random_state=0)"
   ]
  },
  {
   "cell_type": "markdown",
   "metadata": {},
   "source": [
    "#### Length of train and test data set"
   ]
  },
  {
   "cell_type": "code",
   "execution_count": 21,
   "metadata": {},
   "outputs": [
    {
     "name": "stdout",
     "output_type": "stream",
     "text": [
      "X_train: 8195\n",
      "X_test: 2049\n",
      "y_train: 8195\n",
      "y_test: 2049\n"
     ]
    }
   ],
   "source": [
    "# Length of X_train\n",
    "print (f'X_train: {len(X_train)}')\n",
    "\n",
    "# Length of X_test\n",
    "print(f'X_test: {len(X_test)}')\n",
    "\n",
    "# Length of y_train\n",
    "print(f'y_train: {len(y_train)}')\n",
    "      \n",
    "# Length of y_test\n",
    "print(f'y_test: {len(y_test)}')"
   ]
  },
  {
   "cell_type": "markdown",
   "metadata": {},
   "source": [
    "After the train and test data sets have been split, a machine learning model is created using the **KNN Regressor Algorithm**, The model is created with an object of `KNeighborsRegressor` class. The number of neighbors that the algorith uses is passed through a parameter called `n_neighbors`. After the model has been created, it is trained using `fit()` function that takes in two parameters for the training feature set and the training label. When the model has been trained, it can be tested using the test data set that was split previously, using the `preditc()` function. "
   ]
  },
  {
   "cell_type": "code",
   "execution_count": 51,
   "metadata": {},
   "outputs": [],
   "source": [
    "knn = KNeighborsRegressor(n_neighbors=4)\n",
    "knn.fit(X_train, y_train)\n",
    "y_pred = knn.predict(X_test)"
   ]
  },
  {
   "cell_type": "code",
   "execution_count": 54,
   "metadata": {
    "scrolled": true
   },
   "outputs": [
    {
     "name": "stdout",
     "output_type": "stream",
     "text": [
      "               0\n",
      "0     28761.4125\n",
      "1     34989.0400\n",
      "2     31049.0875\n",
      "3     21588.2125\n",
      "4      1108.6875\n",
      "...          ...\n",
      "2044  27945.1525\n",
      "2045     20.5725\n",
      "2046   4559.8000\n",
      "2047   9562.7050\n",
      "2048  41482.6575\n",
      "\n",
      "[2049 rows x 1 columns]\n"
     ]
    }
   ],
   "source": [
    "# Printing the prediction\n",
    "print(pd.DataFrame(y_pred))"
   ]
  },
  {
   "cell_type": "markdown",
   "metadata": {},
   "source": [
    "The accuracy of the trained model can be measured using various metrics, the `mean_absolute_error()` function is provided by the **Scikit Learn** package."
   ]
  },
  {
   "cell_type": "code",
   "execution_count": 52,
   "metadata": {},
   "outputs": [
    {
     "data": {
      "text/plain": [
       "3046.243804294778"
      ]
     },
     "execution_count": 52,
     "metadata": {},
     "output_type": "execute_result"
    }
   ],
   "source": [
    "mean_absolute_error(y_test, y_pred)"
   ]
  },
  {
   "cell_type": "code",
   "execution_count": 53,
   "metadata": {},
   "outputs": [
    {
     "name": "stdout",
     "output_type": "stream",
     "text": [
      "0.9418864527405814\n"
     ]
    }
   ],
   "source": [
    "accuracy = knn.score(X_test, y_test)\n",
    "print(accuracy)"
   ]
  },
  {
   "cell_type": "markdown",
   "metadata": {},
   "source": [
    "### Testing using the provided test.csv file"
   ]
  },
  {
   "cell_type": "markdown",
   "metadata": {},
   "source": [
    "**Walmart** also provides a test data set to test out the model that has been trained using the training data set, this can be used to observe the workng of the model. "
   ]
  },
  {
   "cell_type": "code",
   "execution_count": 25,
   "metadata": {},
   "outputs": [
    {
     "data": {
      "text/html": [
       "<div>\n",
       "<style scoped>\n",
       "    .dataframe tbody tr th:only-of-type {\n",
       "        vertical-align: middle;\n",
       "    }\n",
       "\n",
       "    .dataframe tbody tr th {\n",
       "        vertical-align: top;\n",
       "    }\n",
       "\n",
       "    .dataframe thead th {\n",
       "        text-align: right;\n",
       "    }\n",
       "</style>\n",
       "<table border=\"1\" class=\"dataframe\">\n",
       "  <thead>\n",
       "    <tr style=\"text-align: right;\">\n",
       "      <th></th>\n",
       "      <th>Store</th>\n",
       "      <th>Dept</th>\n",
       "      <th>Date</th>\n",
       "      <th>IsHoliday</th>\n",
       "    </tr>\n",
       "  </thead>\n",
       "  <tbody>\n",
       "    <tr>\n",
       "      <th>0</th>\n",
       "      <td>1</td>\n",
       "      <td>1</td>\n",
       "      <td>2012-11-02</td>\n",
       "      <td>False</td>\n",
       "    </tr>\n",
       "    <tr>\n",
       "      <th>1</th>\n",
       "      <td>1</td>\n",
       "      <td>1</td>\n",
       "      <td>2012-11-09</td>\n",
       "      <td>False</td>\n",
       "    </tr>\n",
       "    <tr>\n",
       "      <th>2</th>\n",
       "      <td>1</td>\n",
       "      <td>1</td>\n",
       "      <td>2012-11-16</td>\n",
       "      <td>False</td>\n",
       "    </tr>\n",
       "    <tr>\n",
       "      <th>3</th>\n",
       "      <td>1</td>\n",
       "      <td>1</td>\n",
       "      <td>2012-11-23</td>\n",
       "      <td>True</td>\n",
       "    </tr>\n",
       "    <tr>\n",
       "      <th>4</th>\n",
       "      <td>1</td>\n",
       "      <td>1</td>\n",
       "      <td>2012-11-30</td>\n",
       "      <td>False</td>\n",
       "    </tr>\n",
       "    <tr>\n",
       "      <th>...</th>\n",
       "      <td>...</td>\n",
       "      <td>...</td>\n",
       "      <td>...</td>\n",
       "      <td>...</td>\n",
       "    </tr>\n",
       "    <tr>\n",
       "      <th>115059</th>\n",
       "      <td>45</td>\n",
       "      <td>98</td>\n",
       "      <td>2013-06-28</td>\n",
       "      <td>False</td>\n",
       "    </tr>\n",
       "    <tr>\n",
       "      <th>115060</th>\n",
       "      <td>45</td>\n",
       "      <td>98</td>\n",
       "      <td>2013-07-05</td>\n",
       "      <td>False</td>\n",
       "    </tr>\n",
       "    <tr>\n",
       "      <th>115061</th>\n",
       "      <td>45</td>\n",
       "      <td>98</td>\n",
       "      <td>2013-07-12</td>\n",
       "      <td>False</td>\n",
       "    </tr>\n",
       "    <tr>\n",
       "      <th>115062</th>\n",
       "      <td>45</td>\n",
       "      <td>98</td>\n",
       "      <td>2013-07-19</td>\n",
       "      <td>False</td>\n",
       "    </tr>\n",
       "    <tr>\n",
       "      <th>115063</th>\n",
       "      <td>45</td>\n",
       "      <td>98</td>\n",
       "      <td>2013-07-26</td>\n",
       "      <td>False</td>\n",
       "    </tr>\n",
       "  </tbody>\n",
       "</table>\n",
       "<p>115064 rows × 4 columns</p>\n",
       "</div>"
      ],
      "text/plain": [
       "        Store  Dept        Date  IsHoliday\n",
       "0           1     1  2012-11-02      False\n",
       "1           1     1  2012-11-09      False\n",
       "2           1     1  2012-11-16      False\n",
       "3           1     1  2012-11-23       True\n",
       "4           1     1  2012-11-30      False\n",
       "...       ...   ...         ...        ...\n",
       "115059     45    98  2013-06-28      False\n",
       "115060     45    98  2013-07-05      False\n",
       "115061     45    98  2013-07-12      False\n",
       "115062     45    98  2013-07-19      False\n",
       "115063     45    98  2013-07-26      False\n",
       "\n",
       "[115064 rows x 4 columns]"
      ]
     },
     "execution_count": 25,
     "metadata": {},
     "output_type": "execute_result"
    }
   ],
   "source": [
    "# Importing the test dataset\n",
    "data_test = pd.read_csv('test.csv')\n",
    "data_test"
   ]
  },
  {
   "cell_type": "code",
   "execution_count": 26,
   "metadata": {},
   "outputs": [
    {
     "name": "stdout",
     "output_type": "stream",
     "text": [
      "<class 'pandas.core.frame.DataFrame'>\n",
      "Int64Index: 2783 entries, 0 to 2782\n",
      "Data columns (total 4 columns):\n",
      " #   Column     Non-Null Count  Dtype \n",
      "---  ------     --------------  ----- \n",
      " 0   Store      2783 non-null   int64 \n",
      " 1   Dept       2783 non-null   int64 \n",
      " 2   Date       2783 non-null   object\n",
      " 3   IsHoliday  2783 non-null   bool  \n",
      "dtypes: bool(1), int64(2), object(1)\n",
      "memory usage: 89.7+ KB\n"
     ]
    }
   ],
   "source": [
    "data_test = data_test.loc[data_test['Store'] == 1]\n",
    "data_test.info()"
   ]
  },
  {
   "cell_type": "code",
   "execution_count": 27,
   "metadata": {},
   "outputs": [
    {
     "data": {
      "text/plain": [
       "Store        0\n",
       "Dept         0\n",
       "Date         0\n",
       "IsHoliday    0\n",
       "dtype: int64"
      ]
     },
     "execution_count": 27,
     "metadata": {},
     "output_type": "execute_result"
    }
   ],
   "source": [
    "data_test.isnull().sum()"
   ]
  },
  {
   "cell_type": "markdown",
   "metadata": {},
   "source": [
    "Since the dataset contains no null values thus, it needs to cleaning"
   ]
  },
  {
   "cell_type": "markdown",
   "metadata": {},
   "source": [
    "The test data set needs to be merged with the features data set, that was used in the training of the model as well"
   ]
  },
  {
   "cell_type": "code",
   "execution_count": 28,
   "metadata": {},
   "outputs": [],
   "source": [
    "data_test_merged = pd.merge(data, data_test, on=['Store', 'Date', 'IsHoliday'], how=\"inner\")"
   ]
  },
  {
   "cell_type": "markdown",
   "metadata": {},
   "source": [
    "Since the data on the column **Date** are of type **str**, which cannot be processed by the model, thus this needs to be removed."
   ]
  },
  {
   "cell_type": "code",
   "execution_count": 29,
   "metadata": {},
   "outputs": [],
   "source": [
    "data_test_merged = data_test_merged.drop(columns=\"Date\")"
   ]
  },
  {
   "cell_type": "markdown",
   "metadata": {},
   "source": [
    "Using the model to predict the weekly sales of the test data set."
   ]
  },
  {
   "cell_type": "code",
   "execution_count": 30,
   "metadata": {},
   "outputs": [],
   "source": [
    "y_pred_2 = knn.predict(data_test_merged)"
   ]
  },
  {
   "cell_type": "code",
   "execution_count": 31,
   "metadata": {},
   "outputs": [
    {
     "data": {
      "text/plain": [
       "array([18543.272, 18543.272, 18543.272, ...,  6026.542,  6026.542,\n",
       "        6026.542])"
      ]
     },
     "execution_count": 31,
     "metadata": {},
     "output_type": "execute_result"
    }
   ],
   "source": [
    "y_pred_2"
   ]
  },
  {
   "cell_type": "markdown",
   "metadata": {},
   "source": [
    "#### Data Visualization"
   ]
  },
  {
   "cell_type": "code",
   "execution_count": 46,
   "metadata": {},
   "outputs": [
    {
     "data": {
      "image/png": "[encoded data removed]",
      "text/plain": [
       "<Figure size 432x288 with 1 Axes>"
      ]
     },
     "metadata": {
      "needs_background": "light"
     },
     "output_type": "display_data"
    }
   ],
   "source": [
    "plt.scatter(X_test['Days to Next Christmas'], y_pred, s=10)\n",
    "plt.show()"
   ]
  },
  {
   "cell_type": "code",
   "execution_count": 47,
   "metadata": {},
   "outputs": [
    {
     "data": {
      "image/png": "[encoded data removed]",
      "text/plain": [
       "<Figure size 432x288 with 1 Axes>"
      ]
     },
     "metadata": {
      "needs_background": "light"
     },
     "output_type": "display_data"
    }
   ],
   "source": [
    "plt.scatter(X_test['Days to Next Christmas'], y_test, s=10)\n",
    "plt.show()"
   ]
  },
  {
   "cell_type": "code",
   "execution_count": null,
   "metadata": {},
   "outputs": [],
   "source": []
  }
 ],
 "metadata": {
  "kernelspec": {
   "display_name": "Python 3",
   "language": "python",
   "name": "python3"
  },
  "language_info": {
   "codemirror_mode": {
    "name": "ipython",
    "version": 3
   },
   "file_extension": ".py",
   "mimetype": "text/x-python",
   "name": "python",
   "nbconvert_exporter": "python",
   "pygments_lexer": "ipython3",
   "version": "3.8.8"
  }
 },
 "nbformat": 4,
 "nbformat_minor": 4
}
